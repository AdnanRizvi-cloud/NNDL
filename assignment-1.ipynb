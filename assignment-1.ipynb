{
  "nbformat": 4,
  "nbformat_minor": 0,
  "metadata": {
    "colab": {
      "name": "Untitled9.ipynb",
      "provenance": []
    },
    "kernelspec": {
      "name": "python3",
      "display_name": "Python 3"
    }
  },
  "cells": [
    {
      "cell_type": "code",
      "metadata": {
        "colab": {
          "base_uri": "https://localhost:8080/"
        },
        "id": "O-msM9l0j2nH",
        "outputId": "67759f18-9d30-42f5-db2d-c318a0fab6a2"
      },
      "source": [
        "from sympy import *\r\n",
        "x=symbols('x')\r\n",
        "f=x*4+3*x*2+10\r\n",
        "y=diff(f,x) \r\n",
        "print(y)\r\n",
        "X=int(input(\"enter x value:\"))\r\n",
        "itr=1 \r\n",
        "n=0.1 \r\n",
        "epoch=2\r\n",
        "while (itr <= epoch) :\r\n",
        "   Y=y.subs(x,X)\r\n",
        "   print(\"y\",Y)\r\n",
        "   deltax=-n*Y\r\n",
        "   print(\"delta(x) =\",deltax)\r\n",
        "   newx = X + deltax\r\n",
        "   print(\"x =\",newx)\r\n",
        "   itr= itr + 1\r\n",
        "   X=newx\r\n",
        "print(\"final x =\",X)\r\n",
        "print(\"Minimum value is\",f.subs(x,X))"
      ],
      "execution_count": 2,
      "outputs": [
        {
          "output_type": "stream",
          "text": [
            "10\n",
            "enter x value:0\n",
            "y 10\n",
            "delta(x) = -1.00000000000000\n",
            "x = -1.00000000000000\n",
            "y 10\n",
            "delta(x) = -1.00000000000000\n",
            "x = -2.00000000000000\n",
            "final x = -2.00000000000000\n",
            "Minimum value is -10.0000000000000\n"
          ],
          "name": "stdout"
        }
      ]
    }
  ]
}